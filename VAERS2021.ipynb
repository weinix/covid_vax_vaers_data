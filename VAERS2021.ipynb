{
 "cells": [
  {
   "cell_type": "markdown",
   "metadata": {},
   "source": [
    "\n",
    "## Data sources\n",
    " \n",
    "* https://vaers.hhs.gov/eSubDownload/index.jsp?fn=2021VAERSData.zip\n",
    " * Note: this link is protected with word verification\n",
    "* https://covid.cdc.gov/covid-data-tracker/#vaccinations\n",
    "* https://covid.cdc.gov/covid-data-tracker/#vaccination-trends\n",
    " \n",
    " "
   ]
  },
  {
   "cell_type": "code",
   "execution_count": 1,
   "metadata": {},
   "outputs": [],
   "source": [
    "import pandas as pd\n",
    "from functools import reduce\n",
    "\n"
   ]
  },
  {
   "cell_type": "code",
   "execution_count": 101,
   "metadata": {},
   "outputs": [],
   "source": [
    "df_data = pd.read_csv('2021VAERSDATA.csv', encoding='windows-1252')\n",
    "df_vax = pd.read_csv('2021VAERSVAX.csv', encoding='windows-1252')\n",
    "df_symptoms = pd.read_csv('2021VAERSSYMPTOMS.csv', encoding='windows-1252')\n",
    "df_vaxed_one_plus = pd.read_csv(\"1ormore.csv\")\n",
    "\n"
   ]
  },
  {
   "cell_type": "code",
   "execution_count": 103,
   "metadata": {},
   "outputs": [
    {
     "name": "stdout",
     "output_type": "stream",
     "text": [
      "Index(['VAERS_ID', 'RECVDATE', 'STATE', 'AGE_YRS', 'CAGE_YR', 'CAGE_MO', 'SEX',\n",
      "       'RPT_DATE', 'SYMPTOM_TEXT', 'DIED', 'DATEDIED', 'L_THREAT', 'ER_VISIT',\n",
      "       'HOSPITAL', 'HOSPDAYS', 'X_STAY', 'DISABLE', 'RECOVD', 'VAX_DATE',\n",
      "       'ONSET_DATE', 'NUMDAYS', 'LAB_DATA', 'V_ADMINBY', 'V_FUNDBY',\n",
      "       'OTHER_MEDS', 'CUR_ILL', 'HISTORY', 'PRIOR_VAX', 'SPLTTYPE',\n",
      "       'FORM_VERS', 'TODAYS_DATE', 'BIRTH_DEFECT', 'OFC_VISIT', 'ER_ED_VISIT',\n",
      "       'ALLERGIES'],\n",
      "      dtype='object')\n",
      "Index(['VAERS_ID', 'VAX_TYPE', 'VAX_MANU', 'VAX_LOT', 'VAX_DOSE_SERIES',\n",
      "       'VAX_ROUTE', 'VAX_SITE', 'VAX_NAME'],\n",
      "      dtype='object')\n",
      "Index(['VAERS_ID', 'SYMPTOM1', 'SYMPTOMVERSION1', 'SYMPTOM2',\n",
      "       'SYMPTOMVERSION2', 'SYMPTOM3', 'SYMPTOMVERSION3', 'SYMPTOM4',\n",
      "       'SYMPTOMVERSION4', 'SYMPTOM5', 'SYMPTOMVERSION5'],\n",
      "      dtype='object')\n",
      "Index(['Date', '1_or_more_total'], dtype='object')\n"
     ]
    }
   ],
   "source": [
    "print(df_data.columns)\n",
    "print(df_vax.columns)\n",
    "print(df_symptoms.columns)\n",
    "print(df_vaxed_one_plus.columns)"
   ]
  },
  {
   "cell_type": "code",
   "execution_count": 150,
   "metadata": {},
   "outputs": [
    {
     "name": "stdout",
     "output_type": "stream",
     "text": [
      "Index(['VAERS_ID', 'RECVDATE', 'STATE', 'AGE_YRS', 'CAGE_YR', 'CAGE_MO', 'SEX',\n",
      "       'RPT_DATE', 'SYMPTOM_TEXT', 'DIED', 'DATEDIED', 'L_THREAT', 'ER_VISIT',\n",
      "       'HOSPITAL', 'HOSPDAYS', 'X_STAY', 'DISABLE', 'RECOVD', 'VAX_DATE',\n",
      "       'ONSET_DATE', 'NUMDAYS', 'LAB_DATA', 'V_ADMINBY', 'V_FUNDBY',\n",
      "       'OTHER_MEDS', 'CUR_ILL', 'HISTORY', 'PRIOR_VAX', 'SPLTTYPE',\n",
      "       'FORM_VERS', 'TODAYS_DATE', 'BIRTH_DEFECT', 'OFC_VISIT', 'ER_ED_VISIT',\n",
      "       'ALLERGIES', 'VAX_TYPE', 'VAX_MANU', 'VAX_LOT', 'VAX_DOSE_SERIES',\n",
      "       'VAX_ROUTE', 'VAX_SITE', 'VAX_NAME', 'SYMPTOM1', 'SYMPTOMVERSION1',\n",
      "       'SYMPTOM2', 'SYMPTOMVERSION2', 'SYMPTOM3', 'SYMPTOMVERSION3',\n",
      "       'SYMPTOM4', 'SYMPTOMVERSION4', 'SYMPTOM5', 'SYMPTOMVERSION5'],\n",
      "      dtype='object')\n"
     ]
    }
   ],
   "source": [
    "#type(df_symptoms)\n",
    "df_combined = reduce(lambda x,y: pd.merge(x,y, on='VAERS_ID', how='outer'), [df_data, df_vax, df_symptoms])\n",
    "print(df_combined.columns)"
   ]
  },
  {
   "cell_type": "code",
   "execution_count": 130,
   "metadata": {},
   "outputs": [],
   "source": [
    "df_death = df_combined[(df_combined[\"DIED\"]==\"Y\") &\n",
    "                     (df_combined[\"VAX_TYPE\"]==\"COVID19\") ]\n",
    "sr_vid_vx_death_by_date=df_death['DATEDIED'].groupby(df_death['DATEDIED']).agg('count')\n"
   ]
  },
  {
   "cell_type": "code",
   "execution_count": 164,
   "metadata": {},
   "outputs": [
    {
     "name": "stdout",
     "output_type": "stream",
     "text": [
      "Index(['VAERS_ID', 'RECVDATE', 'STATE', 'AGE_YRS', 'CAGE_YR', 'CAGE_MO', 'SEX',\n",
      "       'RPT_DATE', 'SYMPTOM_TEXT', 'DIED', 'DATEDIED', 'L_THREAT', 'ER_VISIT',\n",
      "       'HOSPITAL', 'HOSPDAYS', 'X_STAY', 'DISABLE', 'RECOVD', 'VAX_DATE',\n",
      "       'ONSET_DATE', 'NUMDAYS', 'LAB_DATA', 'V_ADMINBY', 'V_FUNDBY',\n",
      "       'OTHER_MEDS', 'CUR_ILL', 'HISTORY', 'PRIOR_VAX', 'SPLTTYPE',\n",
      "       'FORM_VERS', 'TODAYS_DATE', 'BIRTH_DEFECT', 'OFC_VISIT', 'ER_ED_VISIT',\n",
      "       'ALLERGIES', 'VAX_TYPE', 'VAX_MANU', 'VAX_LOT', 'VAX_DOSE_SERIES',\n",
      "       'VAX_ROUTE', 'VAX_SITE', 'VAX_NAME', 'SYMPTOM1', 'SYMPTOMVERSION1',\n",
      "       'SYMPTOM2', 'SYMPTOMVERSION2', 'SYMPTOM3', 'SYMPTOMVERSION3',\n",
      "       'SYMPTOM4', 'SYMPTOMVERSION4', 'SYMPTOM5', 'SYMPTOMVERSION5'],\n",
      "      dtype='object')\n"
     ]
    }
   ],
   "source": [
    "print(df_death.columns)"
   ]
  },
  {
   "cell_type": "code",
   "execution_count": 181,
   "metadata": {},
   "outputs": [
    {
     "name": "stdout",
     "output_type": "stream",
     "text": [
      "       VAX_DATE   DATEDIED  AGE_YRS                             VAX_NAME  \\\n",
      "37   2020-12-22 2021-01-01     82.0          COVID19 (COVID19 (MODERNA))   \n",
      "75   2020-12-22 2021-01-03     90.0          COVID19 (COVID19 (MODERNA))   \n",
      "76   2020-12-22 2021-01-02     78.0          COVID19 (COVID19 (MODERNA))   \n",
      "105  2020-12-30 2021-01-01     64.0          COVID19 (COVID19 (MODERNA))   \n",
      "302  2020-12-30 2021-01-01     65.0  COVID19 (COVID19 (PFIZER-BIONTECH))   \n",
      "...         ...        ...      ...                                  ...   \n",
      "6147 2021-01-18 2021-01-27     81.0  COVID19 (COVID19 (PFIZER-BIONTECH))   \n",
      "6148 2021-01-05 2021-01-23     93.0  COVID19 (COVID19 (PFIZER-BIONTECH))   \n",
      "6149 2021-01-05 2021-01-23     93.0  COVID19 (COVID19 (PFIZER-BIONTECH))   \n",
      "6150 2021-01-25 2021-01-01     58.0          COVID19 (COVID19 (MODERNA))   \n",
      "6151 2021-01-25 2021-01-01     58.0          COVID19 (COVID19 (MODERNA))   \n",
      "\n",
      "     days_vtod  \n",
      "37     10 days  \n",
      "75     12 days  \n",
      "76     11 days  \n",
      "105     2 days  \n",
      "302     2 days  \n",
      "...        ...  \n",
      "6147    9 days  \n",
      "6148   18 days  \n",
      "6149   18 days  \n",
      "6150  -24 days  \n",
      "6151  -24 days  \n",
      "\n",
      "[854 rows x 5 columns]\n"
     ]
    },
    {
     "name": "stderr",
     "output_type": "stream",
     "text": [
      "/home/wwang/.pyenv/versions/miniconda3-4.7.12/lib/python3.7/site-packages/ipykernel_launcher.py:2: SettingWithCopyWarning: \n",
      "A value is trying to be set on a copy of a slice from a DataFrame.\n",
      "Try using .loc[row_indexer,col_indexer] = value instead\n",
      "\n",
      "See the caveats in the documentation: https://pandas.pydata.org/pandas-docs/stable/user_guide/indexing.html#returning-a-view-versus-a-copy\n",
      "  \n",
      "/home/wwang/.pyenv/versions/miniconda3-4.7.12/lib/python3.7/site-packages/ipykernel_launcher.py:3: SettingWithCopyWarning: \n",
      "A value is trying to be set on a copy of a slice from a DataFrame.\n",
      "Try using .loc[row_indexer,col_indexer] = value instead\n",
      "\n",
      "See the caveats in the documentation: https://pandas.pydata.org/pandas-docs/stable/user_guide/indexing.html#returning-a-view-versus-a-copy\n",
      "  This is separate from the ipykernel package so we can avoid doing imports until\n",
      "/home/wwang/.pyenv/versions/miniconda3-4.7.12/lib/python3.7/site-packages/ipykernel_launcher.py:5: SettingWithCopyWarning: \n",
      "A value is trying to be set on a copy of a slice from a DataFrame.\n",
      "Try using .loc[row_indexer,col_indexer] = value instead\n",
      "\n",
      "See the caveats in the documentation: https://pandas.pydata.org/pandas-docs/stable/user_guide/indexing.html#returning-a-view-versus-a-copy\n",
      "  \"\"\"\n"
     ]
    }
   ],
   "source": [
    "df_sum=df_death[['VAX_DATE', 'DATEDIED','AGE_YRS','VAX_NAME']]\n",
    "df_sum['VAX_DATE'] = pd.to_datetime(df_sum['VAX_DATE'])\n",
    "df_sum['DATEDIED'] = pd.to_datetime(df_sum['DATEDIED'])\n",
    "df_sum.dtypes\n",
    "df_sum['days_vtod'] = df_sum['DATEDIED'] - df_sum['VAX_DATE']\n",
    "print(df_sum)"
   ]
  },
  {
   "cell_type": "code",
   "execution_count": 141,
   "metadata": {},
   "outputs": [
    {
     "data": {
      "text/plain": [
       "2020-12-14     0\n",
       "2020-12-15     0\n",
       "2020-12-16     0\n",
       "2020-12-17     0\n",
       "2020-12-18     0\n",
       "2020-12-19     0\n",
       "2020-12-20     0\n",
       "2020-12-21     0\n",
       "2020-12-22     1\n",
       "2020-12-23     1\n",
       "2020-12-24     0\n",
       "2020-12-25     2\n",
       "2020-12-26     3\n",
       "2020-12-27     2\n",
       "2020-12-28     1\n",
       "2020-12-29     2\n",
       "2020-12-30     5\n",
       "2020-12-31     4\n",
       "2021-01-01    21\n",
       "2021-01-02     8\n",
       "2021-01-03    14\n",
       "2021-01-04    25\n",
       "2021-01-05    19\n",
       "2021-01-06    16\n",
       "2021-01-07    13\n",
       "2021-01-08    16\n",
       "2021-01-09    20\n",
       "2021-01-10    29\n",
       "2021-01-11    19\n",
       "2021-01-12    13\n",
       "2021-01-13    35\n",
       "2021-01-14    29\n",
       "2021-01-15    47\n",
       "2021-01-16    35\n",
       "2021-01-17    20\n",
       "2021-01-18    38\n",
       "2021-01-19    37\n",
       "2021-01-20    27\n",
       "2021-01-21    32\n",
       "2021-01-22    21\n",
       "2021-01-23    21\n",
       "2021-01-24    24\n",
       "2021-01-25    31\n",
       "2021-01-26    34\n",
       "2021-01-27    19\n",
       "2021-01-28    18\n",
       "2021-01-29    12\n",
       "2021-01-30    16\n",
       "2021-01-31    26\n",
       "2021-02-01    13\n",
       "2021-02-02     7\n",
       "2021-02-03    11\n",
       "2021-02-04     8\n",
       "Freq: D, Name: DATEDIED, dtype: int64"
      ]
     },
     "execution_count": 141,
     "metadata": {},
     "output_type": "execute_result"
    }
   ],
   "source": [
    "idx = pd.date_range('12/14/2020', '02/04/2021')\n",
    "sr_vid_vx_death_by_date.index = pd.DatetimeIndex(sr_vid_vx_death_by_date.index)\n",
    "sr_vid_vx_death_by_date = sr_vid_vx_death_by_date.reindex(idx, fill_value=0)\n",
    "sr_vid_vx_death_by_date"
   ]
  },
  {
   "cell_type": "code",
   "execution_count": 142,
   "metadata": {},
   "outputs": [
    {
     "name": "stdout",
     "output_type": "stream",
     "text": [
      "        Date  Count  Cum_Sum\n",
      "0 2020-12-14      0        0\n",
      "1 2020-12-15      0        0\n",
      "2 2020-12-16      0        0\n",
      "3 2020-12-17      0        0\n",
      "4 2020-12-18      0        0\n"
     ]
    }
   ],
   "source": [
    "df_covid_vx_death_by_date = pd.DataFrame({'Date':sr_vid_vx_death_by_date.index, 'Count':sr_vid_vx_death_by_date.values})\n",
    "df_covid_vx_death_by_date['Date'] = pd.to_datetime(df_covid_vx_death_by_date['Date'], format='%m/%d/%Y')\n",
    "df_covid_vx_death_by_date.sort_values(by=[\"Date\"],inplace=True, ascending=True)\n",
    "df_covid_vx_death_by_date['Cum_Sum']=df_covid_vx_death_by_date['Count'].cumsum()\n",
    "print(df_covid_vx_death_by_date.head())\n"
   ]
  },
  {
   "cell_type": "code",
   "execution_count": 139,
   "metadata": {},
   "outputs": [
    {
     "name": "stdout",
     "output_type": "stream",
     "text": [
      "        Date  Count  Cum_Sum\n",
      "0 2020-12-01      1        1\n",
      "1 2020-12-02      0        1\n",
      "2 2020-12-03      0        1\n",
      "3 2020-12-04      0        1\n",
      "4 2020-12-05      0        1\n"
     ]
    }
   ],
   "source": [
    "\n",
    "df_vaxed_one_plus['Date'] = pd.to_datetime(df_vaxed_one_plus['Date'], format='%Y-%m-%d')"
   ]
  },
  {
   "cell_type": "code",
   "execution_count": 140,
   "metadata": {},
   "outputs": [
    {
     "data": {
      "text/html": [
       "<div>\n",
       "<style scoped>\n",
       "    .dataframe tbody tr th:only-of-type {\n",
       "        vertical-align: middle;\n",
       "    }\n",
       "\n",
       "    .dataframe tbody tr th {\n",
       "        vertical-align: top;\n",
       "    }\n",
       "\n",
       "    .dataframe thead th {\n",
       "        text-align: right;\n",
       "    }\n",
       "</style>\n",
       "<table border=\"1\" class=\"dataframe\">\n",
       "  <thead>\n",
       "    <tr style=\"text-align: right;\">\n",
       "      <th></th>\n",
       "      <th>Date</th>\n",
       "      <th>1_or_more_total</th>\n",
       "    </tr>\n",
       "  </thead>\n",
       "  <tbody>\n",
       "    <tr>\n",
       "      <th>0</th>\n",
       "      <td>2020-12-14</td>\n",
       "      <td>11608</td>\n",
       "    </tr>\n",
       "    <tr>\n",
       "      <th>1</th>\n",
       "      <td>2020-12-15</td>\n",
       "      <td>56635</td>\n",
       "    </tr>\n",
       "    <tr>\n",
       "      <th>2</th>\n",
       "      <td>2020-12-16</td>\n",
       "      <td>206646</td>\n",
       "    </tr>\n",
       "    <tr>\n",
       "      <th>3</th>\n",
       "      <td>2020-12-17</td>\n",
       "      <td>463769</td>\n",
       "    </tr>\n",
       "    <tr>\n",
       "      <th>4</th>\n",
       "      <td>2020-12-18</td>\n",
       "      <td>856788</td>\n",
       "    </tr>\n",
       "    <tr>\n",
       "      <th>...</th>\n",
       "      <td>...</td>\n",
       "      <td>...</td>\n",
       "    </tr>\n",
       "    <tr>\n",
       "      <th>58</th>\n",
       "      <td>2021-02-08</td>\n",
       "      <td>34619747</td>\n",
       "    </tr>\n",
       "    <tr>\n",
       "      <th>59</th>\n",
       "      <td>2021-02-09</td>\n",
       "      <td>35517590</td>\n",
       "    </tr>\n",
       "    <tr>\n",
       "      <th>60</th>\n",
       "      <td>2021-02-10</td>\n",
       "      <td>36527818</td>\n",
       "    </tr>\n",
       "    <tr>\n",
       "      <th>61</th>\n",
       "      <td>2021-02-11</td>\n",
       "      <td>37496409</td>\n",
       "    </tr>\n",
       "    <tr>\n",
       "      <th>62</th>\n",
       "      <td>2021-02-12</td>\n",
       "      <td>38240184</td>\n",
       "    </tr>\n",
       "  </tbody>\n",
       "</table>\n",
       "<p>63 rows × 2 columns</p>\n",
       "</div>"
      ],
      "text/plain": [
       "         Date  1_or_more_total\n",
       "0  2020-12-14            11608\n",
       "1  2020-12-15            56635\n",
       "2  2020-12-16           206646\n",
       "3  2020-12-17           463769\n",
       "4  2020-12-18           856788\n",
       "..        ...              ...\n",
       "58 2021-02-08         34619747\n",
       "59 2021-02-09         35517590\n",
       "60 2021-02-10         36527818\n",
       "61 2021-02-11         37496409\n",
       "62 2021-02-12         38240184\n",
       "\n",
       "[63 rows x 2 columns]"
      ]
     },
     "execution_count": 140,
     "metadata": {},
     "output_type": "execute_result"
    }
   ],
   "source": [
    "df_vaxed_one_plus"
   ]
  },
  {
   "cell_type": "code",
   "execution_count": 146,
   "metadata": {},
   "outputs": [],
   "source": [
    "df_death_rate = pd.merge(df_vaxed_one_plus,df_covid_vx_death_by_date, on=\"Date\")"
   ]
  },
  {
   "cell_type": "markdown",
   "metadata": {},
   "source": [
    "# Death rate Trend"
   ]
  },
  {
   "cell_type": "code",
   "execution_count": 149,
   "metadata": {},
   "outputs": [
    {
     "name": "stdout",
     "output_type": "stream",
     "text": [
      "         Date  1_or_more_total  Count  Cum_Sum          Rate     Rate%\n",
      "0  2020-12-14            11608      0        0  0.000000e+00  0.000000\n",
      "1  2020-12-15            56635      0        0  0.000000e+00  0.000000\n",
      "2  2020-12-16           206646      0        0  0.000000e+00  0.000000\n",
      "3  2020-12-17           463769      0        0  0.000000e+00  0.000000\n",
      "4  2020-12-18           856788      0        0  0.000000e+00  0.000000\n",
      "5  2020-12-19          1022137      0        0  0.000000e+00  0.000000\n",
      "6  2020-12-20          1120208      0        0  0.000000e+00  0.000000\n",
      "7  2020-12-21          1483092      0        0  0.000000e+00  0.000000\n",
      "8  2020-12-22          1911006      1        1  5.232846e-07  0.000052\n",
      "9  2020-12-23          2451882      1        2  8.156999e-07  0.000082\n",
      "10 2020-12-24          2635816      0        2  7.587783e-07  0.000076\n",
      "11 2020-12-25          2647527      2        4  1.510844e-06  0.000151\n",
      "12 2020-12-26          2779468      3        7  2.518468e-06  0.000252\n",
      "13 2020-12-27          2867669      2        9  3.138438e-06  0.000314\n",
      "14 2020-12-28          3413333      1       10  2.929688e-06  0.000293\n",
      "15 2020-12-29          4079278      2       12  2.941697e-06  0.000294\n",
      "16 2020-12-30          4859677      5       17  3.498175e-06  0.000350\n",
      "17 2020-12-31          5252207      4       21  3.998319e-06  0.000400\n",
      "18 2021-01-01          5287771     21       42  7.942855e-06  0.000794\n",
      "19 2021-01-02          5520145      8       50  9.057733e-06  0.000906\n",
      "20 2021-01-03          5636150     14       64  1.135527e-05  0.001136\n",
      "21 2021-01-04          6190292     25       89  1.437735e-05  0.001438\n",
      "22 2021-01-05          6862328     19      108  1.573810e-05  0.001574\n",
      "23 2021-01-06          7629810     16      124  1.625204e-05  0.001625\n",
      "24 2021-01-07          8434372     13      137  1.624306e-05  0.001624\n",
      "25 2021-01-08          9222376     16      153  1.659008e-05  0.001659\n",
      "26 2021-01-09          9569177     20      173  1.807888e-05  0.001808\n",
      "27 2021-01-10          9730190     29      202  2.076013e-05  0.002076\n",
      "28 2021-01-11         10399957     19      221  2.125009e-05  0.002125\n",
      "29 2021-01-12         11244746     13      234  2.080972e-05  0.002081\n",
      "30 2021-01-13         12206170     35      269  2.203803e-05  0.002204\n",
      "31 2021-01-14         13288993     29      298  2.242457e-05  0.002242\n",
      "32 2021-01-15         14330078     47      345  2.407524e-05  0.002408\n",
      "33 2021-01-16         14863157     35      380  2.556657e-05  0.002557\n",
      "34 2021-01-17         15101481     20      400  2.648747e-05  0.002649\n",
      "35 2021-01-18         15684612     38      438  2.792546e-05  0.002793\n",
      "36 2021-01-19         16588750     37      475  2.863386e-05  0.002863\n",
      "37 2021-01-23         20915501     21      576  2.753938e-05  0.002754\n",
      "38 2021-01-24         21193880     24      600  2.831006e-05  0.002831\n",
      "39 2021-01-25         21987388     31      631  2.869827e-05  0.002870\n",
      "40 2021-01-30         27384509     16      730  2.665741e-05  0.002666\n",
      "41 2021-01-31         27683360     26      756  2.730882e-05  0.002731\n",
      "42 2021-02-01         28351895     13      769  2.712341e-05  0.002712\n",
      "43 2021-01-20         17683619     27      502  2.838785e-05  0.002839\n",
      "44 2021-01-21         18926525     32      534  2.821437e-05  0.002821\n",
      "45 2021-01-22         20220393     21      555  2.744754e-05  0.002745\n",
      "46 2021-01-26         22982219     34      665  2.893541e-05  0.002894\n",
      "47 2021-01-27         24145209     19      684  2.832860e-05  0.002833\n",
      "48 2021-01-28         25414828     18      702  2.762167e-05  0.002762\n",
      "49 2021-01-29         26680201     12      714  2.676142e-05  0.002676\n",
      "50 2021-02-02         29214824      7      776  2.656186e-05  0.002656\n",
      "51 2021-02-03         30371450     11      787  2.591249e-05  0.002591\n",
      "52 2021-02-04         31635882      8      795  2.512969e-05  0.002513\n"
     ]
    }
   ],
   "source": [
    "df_death_rate[\"Rate%\"] = df_death_rate[\"Cum_Sum\"]/df_death_rate[\"1_or_more_total\"] *100\n",
    "print(df_death_rate)"
   ]
  },
  {
   "cell_type": "code",
   "execution_count": 128,
   "metadata": {},
   "outputs": [
    {
     "data": {
      "text/html": [
       "<div>\n",
       "<style scoped>\n",
       "    .dataframe tbody tr th:only-of-type {\n",
       "        vertical-align: middle;\n",
       "    }\n",
       "\n",
       "    .dataframe tbody tr th {\n",
       "        vertical-align: top;\n",
       "    }\n",
       "\n",
       "    .dataframe thead th {\n",
       "        text-align: right;\n",
       "    }\n",
       "</style>\n",
       "<table border=\"1\" class=\"dataframe\">\n",
       "  <thead>\n",
       "    <tr style=\"text-align: right;\">\n",
       "      <th></th>\n",
       "      <th></th>\n",
       "      <th>Date</th>\n",
       "      <th>1_or_more_total</th>\n",
       "      <th>Count</th>\n",
       "      <th>Cum_Sum</th>\n",
       "    </tr>\n",
       "  </thead>\n",
       "  <tbody>\n",
       "    <tr>\n",
       "      <th rowspan=\"5\" valign=\"top\">Date</th>\n",
       "      <th>0</th>\n",
       "      <td>2020-12-14</td>\n",
       "      <td>11608.0</td>\n",
       "      <td>NaN</td>\n",
       "      <td>NaN</td>\n",
       "    </tr>\n",
       "    <tr>\n",
       "      <th>1</th>\n",
       "      <td>2020-12-15</td>\n",
       "      <td>56635.0</td>\n",
       "      <td>NaN</td>\n",
       "      <td>NaN</td>\n",
       "    </tr>\n",
       "    <tr>\n",
       "      <th>2</th>\n",
       "      <td>2020-12-16</td>\n",
       "      <td>206646.0</td>\n",
       "      <td>NaN</td>\n",
       "      <td>NaN</td>\n",
       "    </tr>\n",
       "    <tr>\n",
       "      <th>3</th>\n",
       "      <td>2020-12-17</td>\n",
       "      <td>463769.0</td>\n",
       "      <td>NaN</td>\n",
       "      <td>NaN</td>\n",
       "    </tr>\n",
       "    <tr>\n",
       "      <th>4</th>\n",
       "      <td>2020-12-18</td>\n",
       "      <td>856788.0</td>\n",
       "      <td>NaN</td>\n",
       "      <td>NaN</td>\n",
       "    </tr>\n",
       "    <tr>\n",
       "      <th>...</th>\n",
       "      <th>...</th>\n",
       "      <td>...</td>\n",
       "      <td>...</td>\n",
       "      <td>...</td>\n",
       "      <td>...</td>\n",
       "    </tr>\n",
       "    <tr>\n",
       "      <th rowspan=\"5\" valign=\"top\">Cum_Sum</th>\n",
       "      <th>31</th>\n",
       "      <td>2021-01-31</td>\n",
       "      <td>NaN</td>\n",
       "      <td>26.0</td>\n",
       "      <td>760.0</td>\n",
       "    </tr>\n",
       "    <tr>\n",
       "      <th>32</th>\n",
       "      <td>2021-02-01</td>\n",
       "      <td>NaN</td>\n",
       "      <td>13.0</td>\n",
       "      <td>773.0</td>\n",
       "    </tr>\n",
       "    <tr>\n",
       "      <th>33</th>\n",
       "      <td>2021-02-02</td>\n",
       "      <td>NaN</td>\n",
       "      <td>7.0</td>\n",
       "      <td>780.0</td>\n",
       "    </tr>\n",
       "    <tr>\n",
       "      <th>34</th>\n",
       "      <td>2021-02-03</td>\n",
       "      <td>NaN</td>\n",
       "      <td>11.0</td>\n",
       "      <td>791.0</td>\n",
       "    </tr>\n",
       "    <tr>\n",
       "      <th>35</th>\n",
       "      <td>2021-02-04</td>\n",
       "      <td>NaN</td>\n",
       "      <td>8.0</td>\n",
       "      <td>799.0</td>\n",
       "    </tr>\n",
       "  </tbody>\n",
       "</table>\n",
       "<p>111 rows × 4 columns</p>\n",
       "</div>"
      ],
      "text/plain": [
       "                 Date  1_or_more_total  Count  Cum_Sum\n",
       "Date    0  2020-12-14          11608.0    NaN      NaN\n",
       "        1  2020-12-15          56635.0    NaN      NaN\n",
       "        2  2020-12-16         206646.0    NaN      NaN\n",
       "        3  2020-12-17         463769.0    NaN      NaN\n",
       "        4  2020-12-18         856788.0    NaN      NaN\n",
       "...               ...              ...    ...      ...\n",
       "Cum_Sum 31 2021-01-31              NaN   26.0    760.0\n",
       "        32 2021-02-01              NaN   13.0    773.0\n",
       "        33 2021-02-02              NaN    7.0    780.0\n",
       "        34 2021-02-03              NaN   11.0    791.0\n",
       "        35 2021-02-04              NaN    8.0    799.0\n",
       "\n",
       "[111 rows x 4 columns]"
      ]
     },
     "execution_count": 128,
     "metadata": {},
     "output_type": "execute_result"
    }
   ],
   "source": [
    "df_death_rate"
   ]
  },
  {
   "cell_type": "code",
   "execution_count": null,
   "metadata": {},
   "outputs": [],
   "source": [
    "da"
   ]
  }
 ],
 "metadata": {
  "kernelspec": {
   "display_name": "Python 3",
   "language": "python",
   "name": "python3"
  },
  "language_info": {
   "codemirror_mode": {
    "name": "ipython",
    "version": 3
   },
   "file_extension": ".py",
   "mimetype": "text/x-python",
   "name": "python",
   "nbconvert_exporter": "python",
   "pygments_lexer": "ipython3",
   "version": "3.7.4"
  }
 },
 "nbformat": 4,
 "nbformat_minor": 4
}
